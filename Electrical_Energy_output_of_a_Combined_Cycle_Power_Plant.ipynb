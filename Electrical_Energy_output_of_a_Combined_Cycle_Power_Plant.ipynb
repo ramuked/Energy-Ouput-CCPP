{
  "nbformat": 4,
  "nbformat_minor": 0,
  "metadata": {
    "colab": {
      "name": "Electrical Energy output of a Combined Cycle Power Plant.ipynb",
      "provenance": [],
      "authorship_tag": "ABX9TyPDrpEBJESEnmnEZicAvUnU",
      "include_colab_link": true
    },
    "kernelspec": {
      "name": "python3",
      "display_name": "Python 3"
    },
    "language_info": {
      "name": "python"
    }
  },
  "cells": [
    {
      "cell_type": "markdown",
      "metadata": {
        "id": "view-in-github",
        "colab_type": "text"
      },
      "source": [
        "<a href=\"https://colab.research.google.com/github/ramuked/Energy-Ouput-CCPP/blob/main/Electrical_Energy_output_of_a_Combined_Cycle_Power_Plant.ipynb\" target=\"_parent\"><img src=\"https://colab.research.google.com/assets/colab-badge.svg\" alt=\"Open In Colab\"/></a>"
      ]
    },
    {
      "cell_type": "markdown",
      "metadata": {
        "id": "VkhS_cUNhXjR"
      },
      "source": [
        "#Electrical Energy output of a Combined Cycle Power Plant\n",
        "###Made while learning ANNs with Tensorflow"
      ]
    },
    {
      "cell_type": "markdown",
      "metadata": {
        "id": "axaTDyNMhkNC"
      },
      "source": [
        "##importing required libraries"
      ]
    },
    {
      "cell_type": "code",
      "metadata": {
        "id": "bylkQ81cjOql"
      },
      "source": [
        "import numpy as np\n",
        "import pandas as pd\n",
        "import matplotlib.pyplot as plt\n",
        "import tensorflow as tf\n",
        "import seaborn as sns"
      ],
      "execution_count": 52,
      "outputs": []
    },
    {
      "cell_type": "markdown",
      "metadata": {
        "id": "amiOW8TOkYpU"
      },
      "source": [
        "##Data Preprocessing"
      ]
    },
    {
      "cell_type": "markdown",
      "metadata": {
        "id": "MCsAN2gaj8jK"
      },
      "source": [
        "###importing the dataset"
      ]
    },
    {
      "cell_type": "code",
      "metadata": {
        "id": "FmbokLt8kTOM"
      },
      "source": [
        "dataset = pd.read_excel(\"Folds5x2_pp.xlsx\")"
      ],
      "execution_count": 53,
      "outputs": []
    },
    {
      "cell_type": "code",
      "metadata": {
        "colab": {
          "base_uri": "https://localhost:8080/"
        },
        "id": "yHMlwK9ks2MY",
        "outputId": "206c4c06-390f-4189-becd-403188cb8f5d"
      },
      "source": [
        "print(dataset.head())"
      ],
      "execution_count": 54,
      "outputs": [
        {
          "output_type": "stream",
          "name": "stdout",
          "text": [
            "      AT      V       AP     RH      PE\n",
            "0  14.96  41.76  1024.07  73.17  463.26\n",
            "1  25.18  62.96  1020.04  59.08  444.37\n",
            "2   5.11  39.40  1012.16  92.14  488.56\n",
            "3  20.86  57.32  1010.24  76.64  446.48\n",
            "4  10.82  37.50  1009.23  96.62  473.90\n"
          ]
        }
      ]
    },
    {
      "cell_type": "code",
      "metadata": {
        "colab": {
          "base_uri": "https://localhost:8080/"
        },
        "id": "SX_K__ECs6FW",
        "outputId": "b6b8cc1f-e6d1-44d5-f0e9-d04ffa1cdd6d"
      },
      "source": [
        "print(dataset.shape)"
      ],
      "execution_count": 55,
      "outputs": [
        {
          "output_type": "stream",
          "name": "stdout",
          "text": [
            "(9568, 5)\n"
          ]
        }
      ]
    },
    {
      "cell_type": "code",
      "metadata": {
        "colab": {
          "base_uri": "https://localhost:8080/"
        },
        "id": "5xuCH5WxwIT5",
        "outputId": "ce5b5a2c-d101-441e-aa3d-f1083ddca2e9"
      },
      "source": [
        "print(dataset.info())"
      ],
      "execution_count": 56,
      "outputs": [
        {
          "output_type": "stream",
          "name": "stdout",
          "text": [
            "<class 'pandas.core.frame.DataFrame'>\n",
            "RangeIndex: 9568 entries, 0 to 9567\n",
            "Data columns (total 5 columns):\n",
            " #   Column  Non-Null Count  Dtype  \n",
            "---  ------  --------------  -----  \n",
            " 0   AT      9568 non-null   float64\n",
            " 1   V       9568 non-null   float64\n",
            " 2   AP      9568 non-null   float64\n",
            " 3   RH      9568 non-null   float64\n",
            " 4   PE      9568 non-null   float64\n",
            "dtypes: float64(5)\n",
            "memory usage: 373.9 KB\n",
            "None\n"
          ]
        }
      ]
    },
    {
      "cell_type": "code",
      "metadata": {
        "colab": {
          "base_uri": "https://localhost:8080/"
        },
        "id": "4qZ-O5RkwKOu",
        "outputId": "f4b90205-f786-4c84-cf88-fe1e1d494e17"
      },
      "source": [
        "print(dataset.describe())"
      ],
      "execution_count": 57,
      "outputs": [
        {
          "output_type": "stream",
          "name": "stdout",
          "text": [
            "                AT            V           AP           RH           PE\n",
            "count  9568.000000  9568.000000  9568.000000  9568.000000  9568.000000\n",
            "mean     19.651231    54.305804  1013.259078    73.308978   454.365009\n",
            "std       7.452473    12.707893     5.938784    14.600269    17.066995\n",
            "min       1.810000    25.360000   992.890000    25.560000   420.260000\n",
            "25%      13.510000    41.740000  1009.100000    63.327500   439.750000\n",
            "50%      20.345000    52.080000  1012.940000    74.975000   451.550000\n",
            "75%      25.720000    66.540000  1017.260000    84.830000   468.430000\n",
            "max      37.110000    81.560000  1033.300000   100.160000   495.760000\n"
          ]
        }
      ]
    },
    {
      "cell_type": "code",
      "metadata": {
        "id": "l2lx7EGfs_LB"
      },
      "source": [
        "X = dataset.iloc[:,0:-1].values\n",
        "Y = dataset.iloc[:,-1].values"
      ],
      "execution_count": 58,
      "outputs": []
    },
    {
      "cell_type": "code",
      "metadata": {
        "colab": {
          "base_uri": "https://localhost:8080/"
        },
        "id": "wv-O4n5dtI4o",
        "outputId": "1ae1b178-cba9-4871-ab92-652534183cb2"
      },
      "source": [
        "print(X)"
      ],
      "execution_count": 59,
      "outputs": [
        {
          "output_type": "stream",
          "name": "stdout",
          "text": [
            "[[  14.96   41.76 1024.07   73.17]\n",
            " [  25.18   62.96 1020.04   59.08]\n",
            " [   5.11   39.4  1012.16   92.14]\n",
            " ...\n",
            " [  31.32   74.33 1012.92   36.48]\n",
            " [  24.48   69.45 1013.86   62.39]\n",
            " [  21.6    62.52 1017.23   67.87]]\n"
          ]
        }
      ]
    },
    {
      "cell_type": "code",
      "metadata": {
        "colab": {
          "base_uri": "https://localhost:8080/"
        },
        "id": "l8PEUyUJtdMg",
        "outputId": "6e5cf7b6-cfc0-43ff-d19f-a8d320fde462"
      },
      "source": [
        "print(Y)"
      ],
      "execution_count": 60,
      "outputs": [
        {
          "output_type": "stream",
          "name": "stdout",
          "text": [
            "[463.26 444.37 488.56 ... 429.57 435.74 453.28]\n"
          ]
        }
      ]
    },
    {
      "cell_type": "markdown",
      "metadata": {
        "id": "WSlZxSS1teQ9"
      },
      "source": [
        "###splitting the data into test and training set"
      ]
    },
    {
      "cell_type": "code",
      "metadata": {
        "id": "OpuqfptKt_59"
      },
      "source": [
        "from sklearn.model_selection import train_test_split\n",
        "X_train,X_test,Y_train,Y_test = train_test_split(X,Y,test_size=0.2,random_state=0)"
      ],
      "execution_count": 61,
      "outputs": []
    },
    {
      "cell_type": "code",
      "metadata": {
        "colab": {
          "base_uri": "https://localhost:8080/"
        },
        "id": "HtvK17ePvTcn",
        "outputId": "a8036d9b-f28c-4d7f-fc6f-eec7867792d2"
      },
      "source": [
        "print(X_train)\n",
        "print(Y_train)"
      ],
      "execution_count": 62,
      "outputs": [
        {
          "output_type": "stream",
          "name": "stdout",
          "text": [
            "[[  11.22   43.13 1017.24   80.9 ]\n",
            " [  13.67   54.3  1015.92   75.42]\n",
            " [  32.84   77.95 1014.68   45.8 ]\n",
            " ...\n",
            " [  16.81   38.52 1018.26   75.21]\n",
            " [  12.8    41.16 1022.43   86.19]\n",
            " [  32.32   67.9  1006.08   37.93]]\n",
            "[473.93 467.87 431.97 ... 459.01 462.72 428.12]\n"
          ]
        }
      ]
    },
    {
      "cell_type": "markdown",
      "metadata": {
        "id": "FPM5lwpfvaaV"
      },
      "source": [
        "##Building The ANN"
      ]
    },
    {
      "cell_type": "markdown",
      "metadata": {
        "id": "pdhTOV_B6Qsk"
      },
      "source": [
        "###Initializing the ANN"
      ]
    },
    {
      "cell_type": "code",
      "metadata": {
        "id": "rXOoPNaL6qYs"
      },
      "source": [
        "ann = tf.keras.models.Sequential()"
      ],
      "execution_count": 63,
      "outputs": []
    },
    {
      "cell_type": "markdown",
      "metadata": {
        "id": "WeN4QaTe7N0L"
      },
      "source": [
        "###Adding the input layer and the first hidden layer"
      ]
    },
    {
      "cell_type": "code",
      "metadata": {
        "id": "yYOQ9-2N7R74"
      },
      "source": [
        "ann.add(tf.keras.layers.Dense(units=6,activation='relu'))"
      ],
      "execution_count": 64,
      "outputs": []
    },
    {
      "cell_type": "markdown",
      "metadata": {
        "id": "T7_YvHEU7s86"
      },
      "source": [
        "###Adding the second layer"
      ]
    },
    {
      "cell_type": "code",
      "metadata": {
        "id": "1d8Sxs2c8nPT"
      },
      "source": [
        "ann.add(tf.keras.layers.Dense(units=6,activation='relu'))"
      ],
      "execution_count": 65,
      "outputs": []
    },
    {
      "cell_type": "markdown",
      "metadata": {
        "id": "CaGJWWX58_lq"
      },
      "source": [
        "###Adding the output layer"
      ]
    },
    {
      "cell_type": "code",
      "metadata": {
        "id": "UrTmcab88pmS"
      },
      "source": [
        "ann.add(tf.keras.layers.Dense(units=1))"
      ],
      "execution_count": 66,
      "outputs": []
    },
    {
      "cell_type": "markdown",
      "metadata": {
        "id": "Mu1xg_3o9FYT"
      },
      "source": [
        "##Training the ANN"
      ]
    },
    {
      "cell_type": "markdown",
      "metadata": {
        "id": "p1hokP7O9KGf"
      },
      "source": [
        "###Compiling the ANN"
      ]
    },
    {
      "cell_type": "code",
      "metadata": {
        "id": "bpDRYTDy-2aq"
      },
      "source": [
        "ann.compile(optimizer = 'adam',loss='mean_squared_error')"
      ],
      "execution_count": 67,
      "outputs": []
    },
    {
      "cell_type": "markdown",
      "metadata": {
        "id": "8pu23oJF_KrJ"
      },
      "source": [
        "###Training the ANN Model on the training Set"
      ]
    },
    {
      "cell_type": "code",
      "metadata": {
        "colab": {
          "base_uri": "https://localhost:8080/"
        },
        "id": "AD2NwPCc_QJT",
        "outputId": "198e8363-c5c3-4b7a-a983-53c24fdc8492"
      },
      "source": [
        "ann.fit(X_train,Y_train, batch_size = 32,epochs = 100)"
      ],
      "execution_count": 68,
      "outputs": [
        {
          "output_type": "stream",
          "name": "stdout",
          "text": [
            "Epoch 1/100\n",
            "240/240 [==============================] - 1s 1ms/step - loss: 5141.0508\n",
            "Epoch 2/100\n",
            "240/240 [==============================] - 0s 1ms/step - loss: 245.5231\n",
            "Epoch 3/100\n",
            "240/240 [==============================] - 0s 1ms/step - loss: 231.1456\n",
            "Epoch 4/100\n",
            "240/240 [==============================] - 0s 1ms/step - loss: 213.0437\n",
            "Epoch 5/100\n",
            "240/240 [==============================] - 0s 1ms/step - loss: 193.0678\n",
            "Epoch 6/100\n",
            "240/240 [==============================] - 0s 1ms/step - loss: 172.3363\n",
            "Epoch 7/100\n",
            "240/240 [==============================] - 0s 1ms/step - loss: 151.3625\n",
            "Epoch 8/100\n",
            "240/240 [==============================] - 0s 1ms/step - loss: 130.6096\n",
            "Epoch 9/100\n",
            "240/240 [==============================] - 0s 1ms/step - loss: 111.6797\n",
            "Epoch 10/100\n",
            "240/240 [==============================] - 0s 1ms/step - loss: 94.6015\n",
            "Epoch 11/100\n",
            "240/240 [==============================] - 0s 1ms/step - loss: 80.3256\n",
            "Epoch 12/100\n",
            "240/240 [==============================] - 0s 1ms/step - loss: 67.2502\n",
            "Epoch 13/100\n",
            "240/240 [==============================] - 0s 1ms/step - loss: 57.7753\n",
            "Epoch 14/100\n",
            "240/240 [==============================] - 0s 1ms/step - loss: 50.7834\n",
            "Epoch 15/100\n",
            "240/240 [==============================] - 0s 1ms/step - loss: 45.4400\n",
            "Epoch 16/100\n",
            "240/240 [==============================] - 0s 1ms/step - loss: 41.8422\n",
            "Epoch 17/100\n",
            "240/240 [==============================] - 0s 1ms/step - loss: 38.9802\n",
            "Epoch 18/100\n",
            "240/240 [==============================] - 0s 1ms/step - loss: 37.3600\n",
            "Epoch 19/100\n",
            "240/240 [==============================] - 0s 1ms/step - loss: 35.9726\n",
            "Epoch 20/100\n",
            "240/240 [==============================] - 0s 1ms/step - loss: 35.0294\n",
            "Epoch 21/100\n",
            "240/240 [==============================] - 0s 1ms/step - loss: 34.3244\n",
            "Epoch 22/100\n",
            "240/240 [==============================] - 0s 1ms/step - loss: 33.0822\n",
            "Epoch 23/100\n",
            "240/240 [==============================] - 0s 1ms/step - loss: 33.1153\n",
            "Epoch 24/100\n",
            "240/240 [==============================] - 0s 1ms/step - loss: 31.9183\n",
            "Epoch 25/100\n",
            "240/240 [==============================] - 0s 1ms/step - loss: 31.5322\n",
            "Epoch 26/100\n",
            "240/240 [==============================] - 0s 1ms/step - loss: 31.1586\n",
            "Epoch 27/100\n",
            "240/240 [==============================] - 0s 1ms/step - loss: 30.8362\n",
            "Epoch 28/100\n",
            "240/240 [==============================] - 0s 1ms/step - loss: 30.3456\n",
            "Epoch 29/100\n",
            "240/240 [==============================] - 0s 1ms/step - loss: 30.1279\n",
            "Epoch 30/100\n",
            "240/240 [==============================] - 0s 1ms/step - loss: 29.6447\n",
            "Epoch 31/100\n",
            "240/240 [==============================] - 0s 1ms/step - loss: 29.9340\n",
            "Epoch 32/100\n",
            "240/240 [==============================] - 0s 1ms/step - loss: 28.8382\n",
            "Epoch 33/100\n",
            "240/240 [==============================] - 0s 1ms/step - loss: 29.3183\n",
            "Epoch 34/100\n",
            "240/240 [==============================] - 0s 1ms/step - loss: 28.4216\n",
            "Epoch 35/100\n",
            "240/240 [==============================] - 0s 1ms/step - loss: 28.2882\n",
            "Epoch 36/100\n",
            "240/240 [==============================] - 0s 1ms/step - loss: 28.4913\n",
            "Epoch 37/100\n",
            "240/240 [==============================] - 0s 1ms/step - loss: 27.7102\n",
            "Epoch 38/100\n",
            "240/240 [==============================] - 0s 1ms/step - loss: 27.9068\n",
            "Epoch 39/100\n",
            "240/240 [==============================] - 0s 1ms/step - loss: 27.6768\n",
            "Epoch 40/100\n",
            "240/240 [==============================] - 0s 1ms/step - loss: 28.0918\n",
            "Epoch 41/100\n",
            "240/240 [==============================] - 0s 1ms/step - loss: 27.8000\n",
            "Epoch 42/100\n",
            "240/240 [==============================] - 0s 1ms/step - loss: 27.5575\n",
            "Epoch 43/100\n",
            "240/240 [==============================] - 0s 1ms/step - loss: 27.8311\n",
            "Epoch 44/100\n",
            "240/240 [==============================] - 0s 1ms/step - loss: 27.3129\n",
            "Epoch 45/100\n",
            "240/240 [==============================] - 0s 1ms/step - loss: 26.8438\n",
            "Epoch 46/100\n",
            "240/240 [==============================] - 0s 1ms/step - loss: 27.0253\n",
            "Epoch 47/100\n",
            "240/240 [==============================] - 0s 1ms/step - loss: 27.2931\n",
            "Epoch 48/100\n",
            "240/240 [==============================] - 0s 1ms/step - loss: 26.7529\n",
            "Epoch 49/100\n",
            "240/240 [==============================] - 0s 1ms/step - loss: 27.6226\n",
            "Epoch 50/100\n",
            "240/240 [==============================] - 0s 1ms/step - loss: 27.1703\n",
            "Epoch 51/100\n",
            "240/240 [==============================] - 0s 1ms/step - loss: 27.2832\n",
            "Epoch 52/100\n",
            "240/240 [==============================] - 0s 1ms/step - loss: 27.2402\n",
            "Epoch 53/100\n",
            "240/240 [==============================] - 0s 1ms/step - loss: 26.6221\n",
            "Epoch 54/100\n",
            "240/240 [==============================] - 0s 1ms/step - loss: 27.1970\n",
            "Epoch 55/100\n",
            "240/240 [==============================] - 0s 1ms/step - loss: 26.9753\n",
            "Epoch 56/100\n",
            "240/240 [==============================] - 0s 1ms/step - loss: 26.5175\n",
            "Epoch 57/100\n",
            "240/240 [==============================] - 0s 1ms/step - loss: 27.6022\n",
            "Epoch 58/100\n",
            "240/240 [==============================] - 0s 1ms/step - loss: 26.6609\n",
            "Epoch 59/100\n",
            "240/240 [==============================] - 0s 1ms/step - loss: 27.0033\n",
            "Epoch 60/100\n",
            "240/240 [==============================] - 0s 1ms/step - loss: 26.8295\n",
            "Epoch 61/100\n",
            "240/240 [==============================] - 0s 1ms/step - loss: 27.1106\n",
            "Epoch 62/100\n",
            "240/240 [==============================] - 0s 1ms/step - loss: 26.6354\n",
            "Epoch 63/100\n",
            "240/240 [==============================] - 0s 1ms/step - loss: 27.2632\n",
            "Epoch 64/100\n",
            "240/240 [==============================] - 0s 1ms/step - loss: 26.6305\n",
            "Epoch 65/100\n",
            "240/240 [==============================] - 0s 1ms/step - loss: 26.6965\n",
            "Epoch 66/100\n",
            "240/240 [==============================] - 0s 1ms/step - loss: 26.9397\n",
            "Epoch 67/100\n",
            "240/240 [==============================] - 0s 1ms/step - loss: 26.8682\n",
            "Epoch 68/100\n",
            "240/240 [==============================] - 0s 1ms/step - loss: 26.9456\n",
            "Epoch 69/100\n",
            "240/240 [==============================] - 0s 1ms/step - loss: 27.4572\n",
            "Epoch 70/100\n",
            "240/240 [==============================] - 0s 1ms/step - loss: 26.9338\n",
            "Epoch 71/100\n",
            "240/240 [==============================] - 0s 1ms/step - loss: 26.7964\n",
            "Epoch 72/100\n",
            "240/240 [==============================] - 0s 1ms/step - loss: 26.3412\n",
            "Epoch 73/100\n",
            "240/240 [==============================] - 0s 1ms/step - loss: 26.3382\n",
            "Epoch 74/100\n",
            "240/240 [==============================] - 0s 1ms/step - loss: 26.7535\n",
            "Epoch 75/100\n",
            "240/240 [==============================] - 0s 1ms/step - loss: 26.9810\n",
            "Epoch 76/100\n",
            "240/240 [==============================] - 0s 1ms/step - loss: 26.9378\n",
            "Epoch 77/100\n",
            "240/240 [==============================] - 0s 1ms/step - loss: 26.7182\n",
            "Epoch 78/100\n",
            "240/240 [==============================] - 0s 1ms/step - loss: 27.0169\n",
            "Epoch 79/100\n",
            "240/240 [==============================] - 0s 1ms/step - loss: 26.6647\n",
            "Epoch 80/100\n",
            "240/240 [==============================] - 0s 1ms/step - loss: 26.5513\n",
            "Epoch 81/100\n",
            "240/240 [==============================] - 0s 1ms/step - loss: 27.4403\n",
            "Epoch 82/100\n",
            "240/240 [==============================] - 0s 1ms/step - loss: 26.5634\n",
            "Epoch 83/100\n",
            "240/240 [==============================] - 0s 1ms/step - loss: 27.1431\n",
            "Epoch 84/100\n",
            "240/240 [==============================] - 0s 1ms/step - loss: 27.2797\n",
            "Epoch 85/100\n",
            "240/240 [==============================] - 0s 1ms/step - loss: 26.9047\n",
            "Epoch 86/100\n",
            "240/240 [==============================] - 0s 1ms/step - loss: 27.2787\n",
            "Epoch 87/100\n",
            "240/240 [==============================] - 0s 1ms/step - loss: 26.6682\n",
            "Epoch 88/100\n",
            "240/240 [==============================] - 0s 1ms/step - loss: 26.5668\n",
            "Epoch 89/100\n",
            "240/240 [==============================] - 0s 1ms/step - loss: 27.1531\n",
            "Epoch 90/100\n",
            "240/240 [==============================] - 0s 1ms/step - loss: 27.2091\n",
            "Epoch 91/100\n",
            "240/240 [==============================] - 0s 1ms/step - loss: 26.5895\n",
            "Epoch 92/100\n",
            "240/240 [==============================] - 0s 1ms/step - loss: 27.1235\n",
            "Epoch 93/100\n",
            "240/240 [==============================] - 0s 1ms/step - loss: 26.6439\n",
            "Epoch 94/100\n",
            "240/240 [==============================] - 0s 1ms/step - loss: 26.9249\n",
            "Epoch 95/100\n",
            "240/240 [==============================] - 0s 1ms/step - loss: 26.5410\n",
            "Epoch 96/100\n",
            "240/240 [==============================] - 0s 1ms/step - loss: 26.5679\n",
            "Epoch 97/100\n",
            "240/240 [==============================] - 0s 1ms/step - loss: 26.8861\n",
            "Epoch 98/100\n",
            "240/240 [==============================] - 0s 1ms/step - loss: 26.4692\n",
            "Epoch 99/100\n",
            "240/240 [==============================] - 0s 1ms/step - loss: 27.5841\n",
            "Epoch 100/100\n",
            "240/240 [==============================] - 0s 1ms/step - loss: 27.7084\n"
          ]
        },
        {
          "output_type": "execute_result",
          "data": {
            "text/plain": [
              "<keras.callbacks.History at 0x7f0c48065210>"
            ]
          },
          "metadata": {},
          "execution_count": 68
        }
      ]
    },
    {
      "cell_type": "markdown",
      "metadata": {
        "id": "XhhXOmmlA_HX"
      },
      "source": [
        "###Predicting the results of the Test Set"
      ]
    },
    {
      "cell_type": "code",
      "metadata": {
        "colab": {
          "base_uri": "https://localhost:8080/"
        },
        "id": "kvJamIj9B4qt",
        "outputId": "f9968f36-ebe2-4ede-e91d-4e3eea94c74e"
      },
      "source": [
        "y_pred = ann.predict(X_test)\n",
        "np.set_printoptions(precision=2)\n",
        "\n",
        "print(np.concatenate((y_pred.reshape(len(y_pred),1) , Y_test.reshape(len(Y_test),1)),1))\n",
        "\n"
      ],
      "execution_count": 77,
      "outputs": [
        {
          "output_type": "stream",
          "name": "stdout",
          "text": [
            "[[430.85 431.23]\n",
            " [461.78 460.01]\n",
            " [465.26 461.14]\n",
            " ...\n",
            " [472.49 473.26]\n",
            " [439.35 438.  ]\n",
            " [458.5  463.28]]\n"
          ]
        }
      ]
    }
  ]
}